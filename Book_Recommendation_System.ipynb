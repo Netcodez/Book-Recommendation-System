{
  "cells": [
    {
      "metadata": {
        "dc": {
          "key": "3"
        },
        "deletable": false,
        "editable": false,
        "run_control": {
          "frozen": true
        },
        "tags": [
          "context"
        ],
        "id": "HT5PVQq_hDSK"
      },
      "cell_type": "markdown",
      "source": [
        "## 1. Darwin's bibliography\n",
        "<p><img src=\"https://assets.datacamp.com/production/project_607/img/CharlesDarwin.jpg\" alt=\"Charles Darwin\" width=\"300px\"></p>\n",
        "<p>Charles Darwin is one of the few universal figures of science. His most renowned work is without a doubt his \"<em>On the Origin of Species</em>\" published in 1859 which introduced the concept of natural selection. But Darwin wrote many other books on a wide range of topics, including geology, plants or his personal life. In this project, a mol will be built to automatically detect how closely related his books are to each other.</p>\n",
        "<p>To this purpose,  develop the bases of <strong>a content-based book recommendation system</strong>, which will determine which books are close to each other based on how similar the discussed topics are. The methods used are commonly used in text- or documents-heavy industries such as legal, tech or customer support to perform some common task such as text classification or handling search engine queries.</p>"
      ]
    },
    {
      "cell_type": "code",
      "source": [
        "from google.colab import drive\n",
        "drive.mount('/content/drive')"
      ],
      "metadata": {
        "colab": {
          "base_uri": "https://localhost:8080/"
        },
        "id": "EfGfRXSzigWf",
        "outputId": "83dc49a7-c93d-4316-a388-917f30d2fc40"
      },
      "execution_count": 215,
      "outputs": [
        {
          "output_type": "stream",
          "name": "stdout",
          "text": [
            "Drive already mounted at /content/drive; to attempt to forcibly remount, call drive.mount(\"/content/drive\", force_remount=True).\n"
          ]
        }
      ]
    },
    {
      "cell_type": "code",
      "source": [
        "# Import libraries\n",
        "import pandas as pd\n",
        "import matplotlib.pyplot as plt\n",
        "import re, os\n",
        "import glob\n",
        "import pickle\n",
        "import pprint\n",
        "\n",
        "from nltk.stem import PorterStemmer\n",
        "from gensim import corpora\n",
        "from gensim.models import TfidfModel\n",
        "from gensim import similarities\n",
        "from scipy.cluster import hierarchy\n"
      ],
      "metadata": {
        "id": "krt53CJFEAQ_"
      },
      "execution_count": 216,
      "outputs": []
    },
    {
      "metadata": {
        "dc": {
          "key": "3"
        },
        "tags": [
          "sample_code"
        ],
        "collapsed": true,
        "trusted": true,
        "id": "01JFc5rKhDSe"
      },
      "cell_type": "code",
      "source": [
        "# The books files are contained in this folder\n",
        "folder = \"/content/drive/MyDrive/datasets/\"\n",
        "\n",
        "# List all the .txt files and sort them alphabetically\n",
        "files = glob.glob(folder + '*.txt')\n",
        "\n",
        "files.sort()"
      ],
      "execution_count": 217,
      "outputs": []
    },
    {
      "metadata": {
        "dc": {
          "key": "3"
        },
        "trusted": true,
        "id": "sjFcahAqhDSm",
        "outputId": "f73bdd14-b043-49e6-c4e7-17e85dafbb2d",
        "colab": {
          "base_uri": "https://localhost:8080/"
        }
      },
      "cell_type": "code",
      "source": [
        "# View files\n",
        "print(f'There are {len(files)} text files')\n",
        "\n",
        "print(files[:5])"
      ],
      "execution_count": 218,
      "outputs": [
        {
          "output_type": "stream",
          "name": "stdout",
          "text": [
            "There are 20 text files\n",
            "['/content/drive/MyDrive/datasets/Autobiography.txt', '/content/drive/MyDrive/datasets/CoralReefs.txt', '/content/drive/MyDrive/datasets/DescentofMan.txt', '/content/drive/MyDrive/datasets/DifferentFormsofFlowers.txt', '/content/drive/MyDrive/datasets/EffectsCrossSelfFertilization.txt']\n"
          ]
        }
      ]
    },
    {
      "metadata": {
        "dc": {
          "key": "10"
        },
        "deletable": false,
        "editable": false,
        "run_control": {
          "frozen": true
        },
        "tags": [
          "context"
        ],
        "id": "Mcrjszk-hDSr"
      },
      "cell_type": "markdown",
      "source": [
        "## 2. Load the contents of each book\n",
        "<p>As a first step, the contents of these books(collection of texts - corpus) are loaded and some basic pre-processing is done to facilitate the downstream analyses.</p>"
      ]
    },
    {
      "metadata": {
        "dc": {
          "key": "10"
        },
        "tags": [
          "sample_code"
        ],
        "trusted": true,
        "id": "S_Of3XUShDSt",
        "outputId": "ad1e775f-d783-42ed-f915-536fb1665f8f",
        "colab": {
          "base_uri": "https://localhost:8080/"
        }
      },
      "cell_type": "code",
      "source": [
        "# Initialize the object that will contain the texts and titles\n",
        "# The titles for these books are stored for future reference\n",
        "# and their  respective length  printed to get a gauge for their contents.\n",
        "\n",
        "txts = []\n",
        "titles = []\n",
        "\n",
        "for file in files:\n",
        "    # Open each file\n",
        "    f = open(file, encoding='utf-8-sig')\n",
        "    content =  f.read()\n",
        "\n",
        "    # Remove all non-alpha-numeric characters\n",
        "    _content = re.sub('[\\W]+',' ',content)\n",
        "\n",
        "    # Store the texts and titles of the books in two separate lists\n",
        "    txts.append(_content)\n",
        "    titles.append(os.path.basename(file).replace('.txt', ''))\n",
        "\n",
        "# Print the length, in characters, of each book\n",
        "[len(t) for t in txts]"
      ],
      "execution_count": 219,
      "outputs": [
        {
          "output_type": "execute_result",
          "data": {
            "text/plain": [
              "[123235,\n",
              " 496068,\n",
              " 1776539,\n",
              " 617088,\n",
              " 913713,\n",
              " 624665,\n",
              " 335920,\n",
              " 525423,\n",
              " 797401,\n",
              " 901406,\n",
              " 1047518,\n",
              " 1010645,\n",
              " 773930,\n",
              " 1678048,\n",
              " 298319,\n",
              " 916536,\n",
              " 1093606,\n",
              " 1046071,\n",
              " 341447,\n",
              " 1149668]"
            ]
          },
          "metadata": {},
          "execution_count": 219
        }
      ]
    },
    {
      "metadata": {
        "dc": {
          "key": "10"
        },
        "trusted": true,
        "id": "XdI6Hl4nhDSv",
        "outputId": "da24c536-d78c-478e-f29a-311ce9c2cca8",
        "colab": {
          "base_uri": "https://localhost:8080/"
        }
      },
      "cell_type": "code",
      "source": [
        "# View of th first 500 characters of the first document\n",
        "pprint.pprint(txts[0][:500])"
      ],
      "execution_count": 220,
      "outputs": [
        {
          "output_type": "stream",
          "name": "stdout",
          "text": [
            "(' THE AUTOBIOGRAPHY OF CHARLES DARWIN From The Life and Letters of Charles '\n",
            " 'Darwin By Charles Darwin Edited by his Son Francis Darwin My father s '\n",
            " 'autobiographical recollections given in the present chapter were written for '\n",
            " 'his children and written without any thought that they would ever be '\n",
            " 'published To many this may seem an impossibility but those who knew my '\n",
            " 'father will understand how it was not only possible but natural The '\n",
            " 'autobiography bears the heading Recollections of the Development of my ')\n"
          ]
        }
      ]
    },
    {
      "metadata": {
        "dc": {
          "key": "17"
        },
        "deletable": false,
        "editable": false,
        "run_control": {
          "frozen": true
        },
        "tags": [
          "context"
        ],
        "id": "CBYSzrs_hDSy"
      },
      "cell_type": "markdown",
      "source": [
        "## 3. Find \"On the Origin of Species\"\n",
        "<p>For the next parts of this analysis, the results returned by the method used for a given book will checked. For consistency, Darwin's most famous book: \"<em>On the Origin of Species</em> will be used.\"</p>"
      ]
    },
    {
      "metadata": {
        "dc": {
          "key": "17"
        },
        "tags": [
          "sample_code"
        ],
        "trusted": true,
        "id": "BzlSSbh6hDSz",
        "outputId": "15eb36f6-4e52-493c-8303-59ac59c0ce67",
        "colab": {
          "base_uri": "https://localhost:8080/"
        }
      },
      "cell_type": "code",
      "source": [
        "# Browse the list containing all the titles\n",
        "ori = 0\n",
        "for i in range(len(titles)):\n",
        "    # Store the index if the title is \"OriginofSpecies\"\n",
        "    if titles[i] == \"OriginofSpecies\":\n",
        "        ori = i\n",
        "\n",
        "\n",
        "# Print the stored index\n",
        "print(ori)"
      ],
      "execution_count": 221,
      "outputs": [
        {
          "output_type": "stream",
          "name": "stdout",
          "text": [
            "15\n"
          ]
        }
      ]
    },
    {
      "metadata": {
        "dc": {
          "key": "24"
        },
        "deletable": false,
        "editable": false,
        "run_control": {
          "frozen": true
        },
        "tags": [
          "context"
        ],
        "id": "iAeiXRDLhDS2"
      },
      "cell_type": "markdown",
      "source": [
        "## 4. Tokenize the corpus\n",
        "<p>As a next step, the corpus needs to be transformed into a format that is easier to deal with for the downstream analyses. The corpus is tokenized, i.e., transform each text into a list of the individual words (called tokens) it is made of.</em>\".</p>"
      ]
    },
    {
      "metadata": {
        "dc": {
          "key": "24"
        },
        "tags": [
          "sample_code"
        ],
        "scrolled": true,
        "trusted": true,
        "id": "fHRn42H0hDS3",
        "outputId": "a217a7bd-7706-43a6-b913-80fa2ba67101",
        "colab": {
          "base_uri": "https://localhost:8080/"
        }
      },
      "cell_type": "code",
      "source": [
        "# Define a list of stop words\n",
        "stoplist = set('for a of the and to in to be which some is at that we i who whom show via may my our might as well'.split())\n",
        "\n",
        "# Convert the text to lower case\n",
        "txts_lower_case = [text.lower() for text in txts]\n",
        "\n",
        "# Transform the text into tokens\n",
        "txts_split = [article.split() for article in txts_lower_case]\n",
        "\n",
        "\n",
        "# Remove tokens which are part of the list of stop words\n",
        "texts = [[word for word in list_words if word not in stoplist] for list_words in txts_split]\n",
        "\n",
        "# Print the first 20 tokens for the \"On the Origin of Species\" book\n",
        "print(texts[15][:20])"
      ],
      "execution_count": 222,
      "outputs": [
        {
          "output_type": "stream",
          "name": "stdout",
          "text": [
            "['on', 'origin', 'species', 'but', 'with', 'regard', 'material', 'world', 'can', 'least', 'go', 'so', 'far', 'this', 'can', 'perceive', 'events', 'are', 'brought', 'about']\n"
          ]
        }
      ]
    },
    {
      "metadata": {
        "dc": {
          "key": "31"
        },
        "deletable": false,
        "editable": false,
        "run_control": {
          "frozen": true
        },
        "tags": [
          "context"
        ],
        "id": "YP_26shzhDS5"
      },
      "cell_type": "markdown",
      "source": [
        "## 5. Stemming of the tokenized corpus\n",
        "<p>If you have read <em>On the Origin of Species</em>, you will have noticed that Charles Darwin can use different words to refer to a similar concept. For example, the concept of selection can be described by words such as <em>selection</em>, <em>selective</em>, <em>select</em> or <em>selects</em>. This will dilute the weight given to this concept in the book and potentially bias the results of the analysis.</p>\n",
        "<p>To solve this issue, it is a common practice to use a <strong>stemming process</strong>, which will group together the inflected forms of a word so they can be analysed as a single item: <strong>the stem</strong>. In our <em>On the Origin of Species</em>the words related to the concept of selection would be gathered under the <em>select</em> stem.</p>"
      ]
    },
    {
      "metadata": {
        "dc": {
          "key": "31"
        },
        "tags": [
          "sample_code"
        ],
        "trusted": true,
        "id": "OY6Vdf4rhDS6",
        "outputId": "3c20d96a-5524-4166-8f55-cf47c156fc19",
        "colab": {
          "base_uri": "https://localhost:8080/"
        }
      },
      "cell_type": "code",
      "source": [
        "# Create an instance of a PorterStemmer object\n",
        "porter = PorterStemmer()\n",
        "\n",
        "# For each token of each text, we generated its stem\n",
        "texts_stem = [[porter.stem(token) for token in text] for text in texts]\n",
        "\n",
        "# Save to pickle file\n",
        "pickle.dump(texts_stem, open( \"/content/drive/MyDrive/datasets/texts_stem.p\", \"wb\" ) )\n",
        "\n",
        "\n",
        "# Load the stemmed tokens list from the pregenerated pickle file\n",
        "texts_stem = pickle.load(open('/content/drive/MyDrive/datasets/texts_stem.p', 'rb'))\n",
        "\n",
        "# Print the 20 first stemmed tokens from the \"On the Origin of Species\" book\n",
        "print(texts_stem[15][:20])"
      ],
      "execution_count": 223,
      "outputs": [
        {
          "output_type": "stream",
          "name": "stdout",
          "text": [
            "['on', 'origin', 'speci', 'but', 'with', 'regard', 'materi', 'world', 'can', 'least', 'go', 'so', 'far', 'thi', 'can', 'perceiv', 'event', 'are', 'brought', 'about']\n"
          ]
        }
      ]
    },
    {
      "metadata": {
        "dc": {
          "key": "38"
        },
        "deletable": false,
        "editable": false,
        "run_control": {
          "frozen": true
        },
        "tags": [
          "context"
        ],
        "id": "Ok8SOCQShDS7"
      },
      "cell_type": "markdown",
      "source": [
        "## 6. Building a bag-of-words model\n",
        "<p>Now that the texts have been transformed into stemmed tokens, models need to built that will be useable by downstream algorithms.</p>\n",
        "<p>Firstly, creating a universe of all words contained in the corpus of Charles Darwin's books, which we call <em>a dictionary</em>. Then, using the stemmed tokens and the dictionary, create <strong>bag-of-words models</strong> (BoW) of each of our texts. The BoW models will represent the books as a list of all uniques tokens they contain associated with their respective number of occurrences. </p>\n",
        "<p>To better understand the structure of such a model, the five first elements is printed of one of the \"<em>On the Origin of Species</em>\" BoW model.</p>"
      ]
    },
    {
      "metadata": {
        "dc": {
          "key": "38"
        },
        "tags": [
          "sample_code"
        ],
        "trusted": true,
        "id": "REuISDRqhDS8",
        "outputId": "d82bd01d-101e-48fc-b401-26022cb8bd13",
        "colab": {
          "base_uri": "https://localhost:8080/"
        }
      },
      "cell_type": "code",
      "source": [
        "# Load the functions allowing to create and use dictionaries\n",
        "# Create a dictionary from the stemmed tokens\n",
        "dictionary = corpora.Dictionary(texts_stem)\n",
        "\n",
        "\n",
        "# Create a bag-of-words model for each book, using the previously generated dictionary\n",
        "bows = [dictionary.doc2bow(text) for text in texts_stem]\n",
        "\n",
        "# Print the first five elements of the On the Origin of species' BoW model\n",
        "print(bows[15][:5])"
      ],
      "execution_count": 224,
      "outputs": [
        {
          "output_type": "stream",
          "name": "stdout",
          "text": [
            "[(0, 11), (5, 51), (6, 1), (8, 2), (21, 1)]\n"
          ]
        }
      ]
    },
    {
      "metadata": {
        "dc": {
          "key": "45"
        },
        "deletable": false,
        "editable": false,
        "run_control": {
          "frozen": true
        },
        "tags": [
          "context"
        ],
        "id": "Q8zRY45uhDS9"
      },
      "cell_type": "markdown",
      "source": [
        "## 7. The most common words of a given book\n",
        "<p>The results returned by the bag-of-words model is certainly easy to use for a computer but hard to interpret for a human. It is not straightforward to understand which stemmed tokens are present in a given book from Charles Darwin, and how many occurrences that can be found.</p>\n",
        "<p>In order to better understand how the model has been generated and visualize its content, it will be transformed into a DataFrame and then display the 10 most common stems for the book \"<em>On the Origin of Species</em>\".</p>"
      ]
    },
    {
      "metadata": {
        "dc": {
          "key": "45"
        },
        "tags": [
          "sample_code"
        ],
        "trusted": true,
        "id": "zLoyv_6ChDS-",
        "outputId": "ea4fcdc8-ae18-4a53-9c43-09b1390631d2",
        "colab": {
          "base_uri": "https://localhost:8080/"
        }
      },
      "cell_type": "code",
      "source": [
        "# Convert the BoW model for \"On the Origin of Species\" into a DataFrame\n",
        "df_bow_origin = pd.DataFrame(bows[15])\n",
        "\n",
        "# Add the column names to the DataFrame\n",
        "df_bow_origin.columns = ['index','occurrences']\n",
        "\n",
        "# Add a column containing the token corresponding to the dictionary index\n",
        "df_bow_origin['token'] = [dictionary[ind] for ind in df_bow_origin['index']]\n",
        "\n",
        "# Sort the DataFrame by descending number of occurrences and print the first 10 values\n",
        "print(df_bow_origin.sort_values(by=['occurrences'] ,ascending=False)[:10])"
      ],
      "execution_count": 225,
      "outputs": [
        {
          "output_type": "stream",
          "name": "stdout",
          "text": [
            "      index  occurrences  token\n",
            "747    1169         2023   have\n",
            "1117   1737         1544     on\n",
            "1487   2289         1542  speci\n",
            "891    1367         1480     it\n",
            "238     394         1362     by\n",
            "1126   1748         1201     or\n",
            "125     220         1140    are\n",
            "664    1044         1137   from\n",
            "1772   2704         1000   with\n",
            "1607   2453          962    thi\n"
          ]
        }
      ]
    },
    {
      "metadata": {
        "dc": {
          "key": "52"
        },
        "deletable": false,
        "editable": false,
        "run_control": {
          "frozen": true
        },
        "tags": [
          "context"
        ],
        "id": "yjQPAY5hhDS_"
      },
      "cell_type": "markdown",
      "source": [
        "## 8. Build a tf-idf model\n",
        "<p>If it wasn't for the presence of the stem \"<em>speci</em>\", it would have been difficult to guess this BoW model comes from the <em>On the Origin of Species</em> book. The most recurring words are, apart from few exceptions, very common and unlikely to carry any information peculiar to the given book. An additional step is used in order to determine which tokens are the most specific to a book.</p>\n",
        "<p>To do so, the <strong>tf-idf model</strong> (term frequency–inverse document frequency) is used. This model defines the importance of each word depending on how frequent it is in this text and how infrequent it is in all the other documents. As a result, a high tf-idf score for a word will indicate that this word is specific to this text.</p>\n",
        "<p>After computing those scores, the 10 words most specific to the \"<em>On the Origin of Species</em>\" book will be printed (i.e., the 10 words with the highest tf-idf score).</p>"
      ]
    },
    {
      "metadata": {
        "dc": {
          "key": "52"
        },
        "tags": [
          "sample_code"
        ],
        "trusted": true,
        "id": "S-OwdGcMhDTA",
        "outputId": "0581e457-6884-46c5-d9f0-a6e4bcc09281",
        "colab": {
          "base_uri": "https://localhost:8080/"
        }
      },
      "cell_type": "code",
      "source": [
        "# Generate the tf-idf model\n",
        "model = TfidfModel(bows)\n",
        "\n",
        "# Print the model for some contents of \"On the Origin of Species\"\n",
        "print(model[bows[15][:10]])"
      ],
      "execution_count": 226,
      "outputs": [
        {
          "output_type": "stream",
          "name": "stdout",
          "text": [
            "[(8, 0.05866486502447224), (21, 0.1645130240887821), (23, 0.4926925035555168), (27, 0.18587519434553504), (28, 0.7390387553332751), (31, 0.2463462517777584), (35, 0.29211923924062844)]\n"
          ]
        }
      ]
    },
    {
      "metadata": {
        "dc": {
          "key": "59"
        },
        "deletable": false,
        "editable": false,
        "run_control": {
          "frozen": true
        },
        "tags": [
          "context"
        ],
        "id": "dwRq5qIFhDTB"
      },
      "cell_type": "markdown",
      "source": [
        "## 9. The results of the tf-idf model\n",
        "<p>Once again, the format of those results is hard to interpret for a human. Therefore, it will be transformed into a more readable version and the 10 most specific words displayed for the \"<em>On the Origin of Species</em>\" book.</p>"
      ]
    },
    {
      "metadata": {
        "dc": {
          "key": "59"
        },
        "tags": [
          "sample_code"
        ],
        "trusted": true,
        "id": "a9ElHkaKhDTC",
        "outputId": "e15f465f-89de-4ca4-e5a0-639287f293a4",
        "colab": {
          "base_uri": "https://localhost:8080/"
        }
      },
      "cell_type": "code",
      "source": [
        "# Convert the tf-idf model for \"On the Origin of Species\" into a DataFrame\n",
        "df_tfidf = pd.DataFrame(model[bows[15]])\n",
        "\n",
        "# Name the columns of the DataFrame id and score\n",
        "df_tfidf.columns=['id','score']\n",
        "\n",
        "# Add the tokens corresponding to the numerical indices for better readability\n",
        "df_tfidf['token'] = [dictionary[ind] for ind in list(df_tfidf['id'])]\n",
        "\n",
        "# Sort the DataFrame by descending tf-idf score and print the first 10 rows.\n",
        "print(df_tfidf.sort_values(by=['score'], ascending=False)[:10])"
      ],
      "execution_count": 227,
      "outputs": [
        {
          "output_type": "stream",
          "name": "stdout",
          "text": [
            "         id     score    token\n",
            "879    2165  0.323034   select\n",
            "3100  10110  0.202055   pigeon\n",
            "127     370  0.195925    breed\n",
            "2982   9397  0.165974   migrat\n",
            "946    2326  0.146840   steril\n",
            "284     753  0.144663   domest\n",
            "3668  14077  0.130376        _\n",
            "503    1256  0.126405   hybrid\n",
            "370     967  0.125527   fertil\n",
            "3864  16581  0.123261  gärtner\n"
          ]
        }
      ]
    },
    {
      "metadata": {
        "dc": {
          "key": "66"
        },
        "deletable": false,
        "editable": false,
        "run_control": {
          "frozen": true
        },
        "tags": [
          "context"
        ],
        "id": "HVqh9y-9hDTD"
      },
      "cell_type": "markdown",
      "source": [
        "## 10. Compute distance between texts\n",
        "<p>The results of the tf-idf algorithm now return stemmed tokens which are specific to each book. It can be seen that topics such as selection, breeding or domestication are defining \"<em>On the Origin of Species</em>\" (and in this book, Charles Darwin talks quite a lot about pigeons too). Now that a model has been developed, associating tokens to how specific they are to each book, next step is taking a measure of how related the books are between each other.</p>\n",
        "<p>To this purpose, a measure of similarity called the <strong>cosine similarity</strong> is used and the results visualized as a distance matrix, i.e., a matrix showing all pairwise distances between Darwin's books.</p>"
      ]
    },
    {
      "metadata": {
        "dc": {
          "key": "66"
        },
        "tags": [
          "sample_code"
        ],
        "scrolled": true,
        "trusted": true,
        "id": "O-0To4kuhDTE",
        "outputId": "c3eca6e9-310e-4bd1-8b24-5d79293dbd13",
        "colab": {
          "base_uri": "https://localhost:8080/"
        }
      },
      "cell_type": "code",
      "source": [
        "# Compute the similarity matrix (pairwise distance between all texts)\n",
        "sims = similarities.MatrixSimilarity(model[bows])\n",
        "\n",
        "# Transform the resulting list into a dataframe\n",
        "sim_df = pd.DataFrame(list(sims))\n",
        "\n",
        "# Add the titles of the books as columns and index of the dataframe\n",
        "sim_df.columns  = titles\n",
        "sim_df.index = titles\n",
        "\n",
        "# view result for the first two indexes of the resulting matrix\n",
        "print(sim_df[:2])"
      ],
      "execution_count": 228,
      "outputs": [
        {
          "output_type": "stream",
          "name": "stderr",
          "text": [
            "WARNING:gensim.similarities.docsim:scanning corpus to determine the number of features (consider setting `num_features` explicitly)\n"
          ]
        },
        {
          "output_type": "stream",
          "name": "stdout",
          "text": [
            "               Autobiography  CoralReefs  DescentofMan  \\\n",
            "Autobiography       1.000000    0.049597      0.080753   \n",
            "CoralReefs          0.049597    1.000000      0.009516   \n",
            "\n",
            "               DifferentFormsofFlowers  EffectsCrossSelfFertilization  \\\n",
            "Autobiography                 0.066496                       0.076738   \n",
            "CoralReefs                    0.001981                       0.001937   \n",
            "\n",
            "               ExpressionofEmotionManAnimals  FormationVegetableMould  \\\n",
            "Autobiography                       0.088927                 0.041152   \n",
            "CoralReefs                          0.005048                 0.029451   \n",
            "\n",
            "               FoundationsOriginofSpecies  GeologicalObservationsSouthAmerica  \\\n",
            "Autobiography                    0.026507                            0.030605   \n",
            "CoralReefs                       0.010080                            0.060813   \n",
            "\n",
            "               InsectivorousPlants  LifeandLettersVol1  LifeandLettersVol2  \\\n",
            "Autobiography             0.014920            0.399303            0.220457   \n",
            "CoralReefs                0.002284            0.031210            0.017760   \n",
            "\n",
            "               MonographCirripedia  MonographCirripediaVol2  \\\n",
            "Autobiography             0.005663                 0.007126   \n",
            "CoralReefs                0.005945                 0.008975   \n",
            "\n",
            "               MovementClimbingPlants  OriginofSpecies  PowerMovementPlants  \\\n",
            "Autobiography                0.022955         0.099784             0.016030   \n",
            "CoralReefs                   0.001544         0.038795             0.002692   \n",
            "\n",
            "               VariationPlantsAnimalsDomestication  VolcanicIslands  \\\n",
            "Autobiography                             0.044630         0.038559   \n",
            "CoralReefs                                0.010392         0.057402   \n",
            "\n",
            "               VoyageBeagle  \n",
            "Autobiography      0.184152  \n",
            "CoralReefs         0.267361  \n"
          ]
        }
      ]
    },
    {
      "metadata": {
        "dc": {
          "key": "73"
        },
        "deletable": false,
        "editable": false,
        "run_control": {
          "frozen": true
        },
        "tags": [
          "context"
        ],
        "id": "699AmX38hDTF"
      },
      "cell_type": "markdown",
      "source": [
        "## 11. The book most similar to \"On the Origin of Species\"\n",
        "<p>The similarity matrix contains all the similarity measures between any pair of books from Charles Darwin! It can be used to extract the information the distance between one book and one or several others. </p>\n",
        "<p>As a first step, the books with the most similarity to \"<em>On the Origin of Species</em>,\" will be displayed, more specifically, a bar chart showing all books ranked by how similar they are to Darwin's landmark work.</p>"
      ]
    },
    {
      "metadata": {
        "dc": {
          "key": "73"
        },
        "tags": [
          "sample_code"
        ],
        "trusted": true,
        "scrolled": true,
        "id": "Yb4qhyQmhDTF",
        "outputId": "be72bdfa-5abe-4319-9be6-e2d5e66e5be1",
        "colab": {
          "base_uri": "https://localhost:8080/",
          "height": 467
        }
      },
      "cell_type": "code",
      "source": [
        "%matplotlib inline\n",
        "\n",
        "# Select the column corresponding to \"On the Origin of Species\"\n",
        "v = sim_df['OriginofSpecies']\n",
        "\n",
        "# Sort by ascending scores\n",
        "v_sorted = v.sort_values()\n",
        "\n",
        "# Plotting data as a horizontal bar plot\n",
        "ax = v_sorted.plot.barh()\n",
        "\n",
        "# Modify the axes labels and plot title for a better readability\n",
        "plt.figure(figsize=(10,6))\n",
        "ax.set_xlabel('similarity score')\n",
        "ax.set_ylabel('Book')\n",
        "ax.set_title = 'Similarity plot of Books with \"On the Origin of Species\"'\n",
        "\n",
        "plt.show()\n"
      ],
      "execution_count": 229,
      "outputs": [
        {
          "output_type": "display_data",
          "data": {
            "text/plain": [
              "<Figure size 640x480 with 1 Axes>"
            ],
            "image/png": "[encoded data removed]"
          },
          "metadata": {}
        },
        {
          "output_type": "display_data",
          "data": {
            "text/plain": [
              "<Figure size 1000x600 with 0 Axes>"
            ]
          },
          "metadata": {}
        }
      ]
    },
    {
      "metadata": {
        "dc": {
          "key": "80"
        },
        "deletable": false,
        "editable": false,
        "run_control": {
          "frozen": true
        },
        "tags": [
          "context"
        ],
        "id": "gI8B1rN3hDTG"
      },
      "cell_type": "markdown",
      "source": [
        "## 12. Which books have similar content?\n",
        "<p>The chart is extremely useful in determining a given book's most similar work. For example, if someone has  enjoyed \"<em>On the Origin of Species</em>,\" the person could read books discussing similar concepts such as \"<em>The Variation of Animals and Plants under Domestication</em>\" or \"<em>The Descent of Man, and Selection in Relation to Sex</em>.\" Indeed, <em>On the Origin of Species</em> has a whole chapter about domestication and <em>The Descent of Man, and Selection in Relation to Sex</em> applies the theory of natural selection to human evolution. Hence, the results make sense.</p>\n",
        "<p>However, it is necessary to have a better understanding of the big picture and see how Darwin's books are generally related to each other (in terms of topics discussed). To this purpose, the whole similarity matrix will be represented as a dendrogram, which is a standard tool to display such data. <strong>This last approach will display all the information about book similarities at once.</strong> For example, a book's closest relative can be found, but, also, groups of books that have similar can be visualised topics  (e.g., the cluster about Charles Darwin personal life with his autobiography and letters). If familiar with Darwin's bibliography, the results would not be surprising, which indicates the method gives good results. Otherwise, this could suggest which book to read next after reading one of the author's book, someone will know which other books to read next in order to learn more about the topics it addressed.</p>"
      ]
    },
    {
      "metadata": {
        "dc": {
          "key": "80"
        },
        "tags": [
          "sample_code"
        ],
        "trusted": true,
        "id": "gTcCmXG4hDTH",
        "outputId": "b93e3053-50d4-4f9c-f72b-ab88072c0e68",
        "colab": {
          "base_uri": "https://localhost:8080/",
          "height": 430
        }
      },
      "cell_type": "code",
      "source": [
        "# Compute the clusters from the similarity matrix,\n",
        "# using the Ward variance minimization algorithm\n",
        "Z = hierarchy.linkage(sims,'ward')\n",
        "\n",
        "# Display this result as a horizontal dendrogram\n",
        "x = hierarchy.dendrogram(Z,leaf_font_size=8,labels=sim_df.index,orientation=\"left\")\n",
        "\n",
        "plt.show()"
      ],
      "execution_count": 230,
      "outputs": [
        {
          "output_type": "display_data",
          "data": {
            "text/plain": [
              "<Figure size 640x480 with 1 Axes>"
            ],
            "image/png": "[encoded data removed]"
          },
          "metadata": {}
        }
      ]
    }
  ],
  "metadata": {
    "kernelspec": {
      "name": "python3",
      "display_name": "Python 3",
      "language": "python"
    },
    "language_info": {
      "name": "python",
      "version": "3.6.7",
      "mimetype": "text/x-python",
      "codemirror_mode": {
        "name": "ipython",
        "version": 3
      },
      "pygments_lexer": "ipython3",
      "nbconvert_exporter": "python",
      "file_extension": ".py"
    },
    "colab": {
      "provenance": []
    }
  },
  "nbformat": 4,
  "nbformat_minor": 0
}